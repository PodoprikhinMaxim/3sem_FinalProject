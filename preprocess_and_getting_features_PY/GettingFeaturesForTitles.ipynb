{
 "cells": [
  {
   "cell_type": "code",
   "execution_count": 2,
   "metadata": {},
   "outputs": [
    {
     "name": "stderr",
     "output_type": "stream",
     "text": [
      "[nltk_data] Downloading package stopwords to\n",
      "[nltk_data]     C:\\Users\\User\\AppData\\Roaming\\nltk_data...\n",
      "[nltk_data]   Package stopwords is already up-to-date!\n"
     ]
    }
   ],
   "source": [
    "import requests\n",
    "from bs4 import BeautifulSoup\n",
    "import pymorphy2\n",
    "from tqdm import tqdm\n",
    "import time\n",
    "import numpy as np\n",
    "import json\n",
    "from sklearn.feature_extraction.text import TfidfVectorizer\n",
    "from scipy import spatial\n",
    "\n",
    "import nltk\n",
    "from nltk.corpus import stopwords\n",
    "nltk.download('stopwords')\n",
    "stop_words = set(stopwords.words('russian') + stopwords.words('english'))"
   ]
  },
  {
   "cell_type": "raw",
   "metadata": {},
   "source": [
    "tf-idf on chars"
   ]
  },
  {
   "cell_type": "code",
   "execution_count": 3,
   "metadata": {},
   "outputs": [],
   "source": [
    "morph = pymorphy2.MorphAnalyzer()"
   ]
  },
  {
   "cell_type": "code",
   "execution_count": 4,
   "metadata": {},
   "outputs": [],
   "source": [
    "num2q_dict = dict()\n",
    "with open('Data/queries_b.txt', 'r', encoding='utf-8') as f:\n",
    "    for line in f.readlines():\n",
    "        tmp = line.strip().split('\\t')\n",
    "        if tmp[0] not in num2q_dict:\n",
    "            tmp_w = tmp[1].split(' ')\n",
    "            norm_form =[]\n",
    "            for w in tmp_w:\n",
    "                norm_form.append(morph.parse(w)[0].normal_form)\n",
    "            norm_form = ' '.join(norm_form)\n",
    "            num2q_dict[tmp[0]] = norm_form\n",
    "            \n",
    "num2title_dict = dict()\n",
    "with open('Data/titles_norm.txt', 'r', encoding='utf-8') as f:\n",
    "    for line in f.readlines():\n",
    "        tmp = line.strip().split('\\t')\n",
    "        num2title_dict[tmp[0]] = tmp[1]"
   ]
  },
  {
   "cell_type": "code",
   "execution_count": 5,
   "metadata": {},
   "outputs": [],
   "source": [
    "title = []\n",
    "for t in num2title_dict:\n",
    "    title.append(num2title_dict[t])\n",
    "\n",
    "query = []\n",
    "for q in num2q_dict:\n",
    "    query.append(num2q_dict[q])    "
   ]
  },
  {
   "cell_type": "code",
   "execution_count": 6,
   "metadata": {},
   "outputs": [],
   "source": [
    "q2url_dict = dict()\n",
    "with open('Data/train.marks.tsv','r') as f:\n",
    "    for line in f.readlines():\n",
    "        tmp = line.strip().split('\\t')\n",
    "        if tmp[0] in q2url_dict:\n",
    "            q2url_dict[tmp[0]].append(tmp[1])\n",
    "        else:\n",
    "            q2url_dict[tmp[0]] = [tmp[1]]\n",
    "with open('Data/sample.csv','r') as f:\n",
    "    f.readline()\n",
    "    for line in f.readlines():\n",
    "        tmp = line.strip().split(',')\n",
    "        if tmp[0] in q2url_dict:\n",
    "            q2url_dict[tmp[0]].append(tmp[1])\n",
    "        else:\n",
    "            q2url_dict[tmp[0]] = [tmp[1]]"
   ]
  },
  {
   "cell_type": "code",
   "execution_count": 7,
   "metadata": {},
   "outputs": [
    {
     "name": "stderr",
     "output_type": "stream",
     "text": [
      "100%|██████████████████████████████████████████████████████████████████████████████| 6311/6311 [05:52<00:00, 17.88it/s]\n"
     ]
    }
   ],
   "source": [
    "vectorizer = TfidfVectorizer(analyzer='char', ngram_range=(1,1), encoding='utf-8')\n",
    "vectorizer.fit(title)\n",
    "title_transformed = vectorizer.transform(title)\n",
    "query_transformed = vectorizer.transform(query)\n",
    "\n",
    "with open('feat_title/сosine_tfidf_char1_1.txt', 'w') as f:\n",
    "    for q in tqdm(q2url_dict):\n",
    "        if q not in num2q_dict:\n",
    "            continue\n",
    "        docs = []\n",
    "        b = vectorizer.transform([num2q_dict[q]]).toarray().ravel()\n",
    "        for d in q2url_dict[q]:\n",
    "            if d not in num2title_dict:\n",
    "                continue\n",
    "            a = vectorizer.transform([num2title_dict[d]]).toarray().ravel()\n",
    "            cosin_sim = 1-spatial.distance.cosine(a, b)\n",
    "            f.write(q+'\\t'+d+'\\t'+str(cosin_sim)+'\\n')"
   ]
  },
  {
   "cell_type": "code",
   "execution_count": null,
   "metadata": {},
   "outputs": [],
   "source": [
    "vectorizer = TfidfVectorizer(analyzer='char', ngram_range=(2,3), encoding='utf-8')\n",
    "vectorizer.fit(title)\n",
    "title_transformed = vectorizer.transform(title)\n",
    "query_transformed = vectorizer.transform(query)\n",
    "\n",
    "with open('feat_title/сosine_tfidf_char2_3.txt', 'w') as f:\n",
    "    for q in tqdm(q2url_dict):\n",
    "        if q not in num2q_dict:\n",
    "            continue\n",
    "        docs = []\n",
    "        b = vectorizer.transform([num2q_dict[q]]).toarray().ravel()\n",
    "        for d in q2url_dict[q]:\n",
    "            if d not in num2title_dict:\n",
    "                continue\n",
    "            a = vectorizer.transform([num2title_dict[d]]).toarray().ravel()\n",
    "            cosin_sim = 1-spatial.distance.cosine(a, b)\n",
    "            f.write(q+'\\t'+d+'\\t'+str(cosin_sim)+'\\n')"
   ]
  },
  {
   "cell_type": "code",
   "execution_count": null,
   "metadata": {},
   "outputs": [],
   "source": [
    "with open('feat_title/сosine_tfidf_char3_13.txt', 'w') as f:\n",
    "    for q in tqdm(q2url_dict):\n",
    "        if q not in num2q_dict:\n",
    "            continue\n",
    "        docs = []\n",
    "        for d in q2url_dict[q]:\n",
    "            if d not in num2title_dict:\n",
    "                continue\n",
    "            docs.append(num2title_dict[d])\n",
    "        vectorizer = TfidfVectorizer(analyzer='char', ngram_range=(3,13), encoding='utf-8')\n",
    "        vectorizer.fit(docs)\n",
    "        b = vectorizer.transform([num2q_dict[q]]).toarray().ravel()\n",
    "        for d in q2url_dict[q]:\n",
    "            if d not in num2title_dict:\n",
    "                continue\n",
    "            a = vectorizer.transform([num2title_dict[d]]).toarray().ravel()\n",
    "            cosin_sim = 1-spatial.distance.cosine(a, b)\n",
    "            f.write(q+'\\t'+d+'\\t'+str(cosin_sim)+'\\n')"
   ]
  },
  {
   "cell_type": "code",
   "execution_count": 1,
   "metadata": {},
   "outputs": [],
   "source": [
    "from rank_bm25 import  BM25L #to create bm25Plus and bm25 features just change BM25L to what you need"
   ]
  },
  {
   "cell_type": "code",
   "execution_count": 48,
   "metadata": {},
   "outputs": [],
   "source": [
    "def remove_stopwords(input_string):\n",
    "    word_list = input_string.split(' ')\n",
    "    filtered_words = [word for word in word_list if word not in stop_words]\n",
    "    filtered_string = ' '.join(filtered_words)\n",
    "    return filtered_string"
   ]
  },
  {
   "cell_type": "code",
   "execution_count": 49,
   "metadata": {},
   "outputs": [],
   "source": [
    "def convert_to_ngramms(input_string):\n",
    "    chars = list(input_string.replace(' ', ''))\n",
    "    bigrams = [chars[i]+chars[i+1] for i in range(len(chars)-1)]\n",
    "    trigrams = [chars[i]+chars[i+1]+chars[i+2] for i in range(len(chars)-2)]\n",
    "    return chars+bigrams+trigrams"
   ]
  },
  {
   "cell_type": "code",
   "execution_count": 53,
   "metadata": {},
   "outputs": [
    {
     "name": "stderr",
     "output_type": "stream",
     "text": [
      "100%|██████████████████████████████████████████████████████████████████████████████| 6311/6311 [01:12<00:00, 87.18it/s]\n"
     ]
    }
   ],
   "source": [
    "with open('feat_title/сosine_ bm25L.txt', 'w') as f:\n",
    "    for q in tqdm(q2url_dict):\n",
    "        if q not in num2q_dict:\n",
    "            continue\n",
    "        docs = []\n",
    "        for d in q2url_dict[q]:\n",
    "            if d not in num2title_dict:\n",
    "                continue\n",
    "            docs.append(remove_stopwords(num2title_dict[d]))\n",
    "        q_new = remove_stopwords(num2q_dict[q])\n",
    "        tokenized_corpus = [convert_to_ngramms(doc) for doc in docs]\n",
    "        bm25 =  BM25L(tokenized_corpus)\n",
    "        tokenized_query = convert_to_ngramms(q_new)\n",
    "        doc_scores = bm25.get_scores(tokenized_query)\n",
    "        i = 0\n",
    "        for d in q2url_dict[q]:\n",
    "            if d not in num2title_dict:\n",
    "                continue\n",
    "            f.write(q+'\\t'+d+'\\t'+str(doc_scores[i])+'\\n')\n",
    "            i += 1"
   ]
  }
 ],
 "metadata": {
  "kernelspec": {
   "display_name": "Python 3",
   "language": "python",
   "name": "python3"
  },
  "language_info": {
   "codemirror_mode": {
    "name": "ipython",
    "version": 3
   },
   "file_extension": ".py",
   "mimetype": "text/x-python",
   "name": "python",
   "nbconvert_exporter": "python",
   "pygments_lexer": "ipython3",
   "version": "3.7.4"
  }
 },
 "nbformat": 4,
 "nbformat_minor": 2
}
