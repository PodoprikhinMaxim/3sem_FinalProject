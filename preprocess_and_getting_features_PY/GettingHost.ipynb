{
 "cells": [
  {
   "cell_type": "code",
   "execution_count": 45,
   "metadata": {},
   "outputs": [],
   "source": [
    "host_dict = dict()\n",
    "id_ = 0\n",
    "with open('Data/url.data', 'r', encoding='utf-8') as f:\n",
    "    for line in f.readlines():\n",
    "        tmp = line.strip().split('\\t') \n",
    "        tmp_ = tmp[1].split('/')[0]\n",
    "        if tmp_[:4] =='www.':\n",
    "            tmp_=tmp_[4:]\n",
    "        if tmp_ in host_dict:\n",
    "            continue\n",
    "        host_dict[tmp_] = str(id_)\n",
    "        id_ += 1"
   ]
  },
  {
   "cell_type": "code",
   "execution_count": 46,
   "metadata": {},
   "outputs": [],
   "source": [
    "with open('Data/host.data', 'w', encoding='utf-8') as f:\n",
    "    for host in host_dict:\n",
    "        f.write(host_dict[host]+'\\t'+host+'\\n')"
   ]
  }
 ],
 "metadata": {
  "kernelspec": {
   "display_name": "Python 3",
   "language": "python",
   "name": "python3"
  },
  "language_info": {
   "codemirror_mode": {
    "name": "ipython",
    "version": 3
   },
   "file_extension": ".py",
   "mimetype": "text/x-python",
   "name": "python",
   "nbconvert_exporter": "python",
   "pygments_lexer": "ipython3",
   "version": "3.7.4"
  }
 },
 "nbformat": 4,
 "nbformat_minor": 2
}
