{
 "cells": [
  {
   "cell_type": "code",
   "execution_count": 22,
   "metadata": {},
   "outputs": [],
   "source": [
    "import pymorphy2\n",
    "from tqdm import tqdm\n",
    "import time"
   ]
  },
  {
   "cell_type": "code",
   "execution_count": 23,
   "metadata": {},
   "outputs": [],
   "source": [
    "dict_words2normword = dict()\n",
    "morph = pymorphy2.MorphAnalyzer()"
   ]
  },
  {
   "cell_type": "code",
   "execution_count": 24,
   "metadata": {},
   "outputs": [],
   "source": [
    "def normolize_string(string):\n",
    "    array_words = string.split(' ')\n",
    "    array_normwords = []\n",
    "    for word in array_words:\n",
    "        if word in dict_words2normword:\n",
    "            array_normwords.append(dict_words2normword[word])\n",
    "        else:\n",
    "            array_normwords.append(morph.parse(word)[0].normal_form)\n",
    "            dict_words2normword[word] = morph.parse(word)[0].normal_form\n",
    "    return ' '.join(array_normwords)"
   ]
  },
  {
   "cell_type": "code",
   "execution_count": 25,
   "metadata": {},
   "outputs": [],
   "source": [
    "dict_titles = dict()\n",
    "dict_titles_norm = dict()\n",
    "with open('Data/docs.tsv','r', encoding='utf-8') as f:\n",
    "    for line in f.readlines():\n",
    "        tmp = line.strip().split('\\t')\n",
    "        if len(tmp) == 3:\n",
    "            with open('Data/norm_docs/'+tmp[0]+'.txt','w',encoding='utf-8') as f_:\n",
    "                dict_titles[tmp[0]] = tmp[1].lower()\n",
    "                dict_titles_norm[tmp[0]] = normolize_string(tmp[1].lower())\n",
    "                f_.write(tmp[0]+'\\t'+normolize_string(tmp[2].lower())) \n",
    "        else:\n",
    "            with open('Data/norm_docs/'+tmp[0]+'.txt','w',encoding='utf-8') as f_:\n",
    "                dict_titles[tmp[0]] = ''\n",
    "                dict_titles_norm[tmp[0]] = ''\n",
    "                f_.write(tmp[0]+'\\t'+normolize_string(tmp[1]lower()))     "
   ]
  },
  {
   "cell_type": "code",
   "execution_count": 26,
   "metadata": {},
   "outputs": [],
   "source": [
    "with open('Data/titles.txt','w', encoding='utf-8') as f:\n",
    "    for d in dict_titles:\n",
    "        f.write(d+'\\t'+dict_titles[d]+'\\n')"
   ]
  },
  {
   "cell_type": "code",
   "execution_count": 27,
   "metadata": {},
   "outputs": [],
   "source": [
    "with open('Data/titles_norm.txt','w', encoding='utf-8') as f:\n",
    "    for d in dict_titles_norm:\n",
    "        f.write(d+'\\t'+dict_titles_norm[d]+'\\n')"
   ]
  },
  {
   "cell_type": "code",
   "execution_count": 28,
   "metadata": {},
   "outputs": [],
   "source": [
    "dict_q2d = dict()\n",
    "with open('Data/sample.csv','r',encoding='utf-8') as f:\n",
    "    f.readline()\n",
    "    for line in f.readlines():\n",
    "        tmp = line.strip().split(',')\n",
    "        if tmp[0] in dict_q2d:\n",
    "            dict_q2d[tmp[0]].append(tmp[1])\n",
    "        else:\n",
    "            dict_q2d[tmp[0]] = [tmp[1]]\n",
    "with open('Data/train.marks.tsv','r',encoding='utf-8') as f:\n",
    "    f.readline()\n",
    "    for line in f.readlines():\n",
    "        tmp = line.strip().split('\\t')\n",
    "        if tmp[0] in dict_q2d:\n",
    "            dict_q2d[tmp[0]].append(tmp[1])\n",
    "        else:\n",
    "            dict_q2d[tmp[0]] = [tmp[1]]\n",
    "        "
   ]
  },
  {
   "cell_type": "code",
   "execution_count": 32,
   "metadata": {},
   "outputs": [],
   "source": [
    "for q in dict_q2d:\n",
    "    with open('Data/norm_docs2q/'+q+'.txt','w', encoding='utf-8') as f:\n",
    "        for d in dict_q2d[q]:\n",
    "            try:\n",
    "                with open('Data/norm_docs/'+d+'.txt','r',encoding='utf-8') as f_:\n",
    "                    line = f_.readline()\n",
    "                    f.write(line+'\\n')\n",
    "            except:\n",
    "                continue"
   ]
  },
  {
   "cell_type": "code",
   "execution_count": null,
   "metadata": {},
   "outputs": [],
   "source": []
  }
 ],
 "metadata": {
  "kernelspec": {
   "display_name": "Python 3",
   "language": "python",
   "name": "python3"
  },
  "language_info": {
   "codemirror_mode": {
    "name": "ipython",
    "version": 3
   },
   "file_extension": ".py",
   "mimetype": "text/x-python",
   "name": "python",
   "nbconvert_exporter": "python",
   "pygments_lexer": "ipython3",
   "version": "3.7.4"
  }
 },
 "nbformat": 4,
 "nbformat_minor": 2
}
