{
 "cells": [
  {
   "cell_type": "code",
   "execution_count": 29,
   "metadata": {},
   "outputs": [],
   "source": [
    "from sklearn.feature_extraction.text import TfidfVectorizer\n",
    "import pymorphy2\n",
    "from sklearn.metrics.pairwise import cosine_similarity as cosine\n",
    "import numpy as np"
   ]
  },
  {
   "cell_type": "code",
   "execution_count": null,
   "metadata": {},
   "outputs": [],
   "source": [
    "morph = pymorphy2.MorphAnalyzer()"
   ]
  },
  {
   "cell_type": "code",
   "execution_count": 32,
   "metadata": {},
   "outputs": [],
   "source": [
    "def tf_idf_docs(q):\n",
    "    corpus = []\n",
    "    dict_title = dict()\n",
    "    with open('Data/norm_docs2q/'+q+'.txt','r', encoding='utf-8') as f:\n",
    "        for line in f.readlines():\n",
    "            tmp = line.strip().split('\\t')\n",
    "            corpus.append(tmp[1])\n",
    "            dict_title[len(corpus)-1] = tmp[0]\n",
    "    query = []\n",
    "    with open('Data/queries_b.txt','r', encoding='utf-8') as f:\n",
    "        for line in f.readlines():\n",
    "            tmp = line.strip().split('\\t')\n",
    "            #dict_q[tmp[0]] = 0\n",
    "            if tmp[0] != q:\n",
    "                continue\n",
    "            tmp_w = tmp[1].split(' ')\n",
    "            norm_form =[]\n",
    "            for w in tmp_w:\n",
    "                norm_form.append(morph.parse(w)[0].normal_form)\n",
    "            #string_arr = [i for i in norm_form if i not in stop_words]\n",
    "            norm_form = ' '.join(norm_form)\n",
    "            query.append(norm_form)\n",
    "        #break\n",
    "    vectorizer = TfidfVectorizer(analyzer='char', ngram_range=(3,7))\n",
    "    a = corpus+query\n",
    "    vectorizer.fit(a)\n",
    "    vec_docs = vectorizer.transform(corpus)\n",
    "    vec_qu = vectorizer.transform(query)\n",
    "    res = cosine(vec_qu, vec_docs).ravel()\n",
    "    with open('tf_idf_body/'+q+'.txt', 'w', encoding='utf-8') as f:\n",
    "        for i in range(len(res)):\n",
    "            f.write(q+'\\t'+dict_title[i]+'\\t'+str(res[i])+'\\n')"
   ]
  },
  {
   "cell_type": "code",
   "execution_count": 33,
   "metadata": {},
   "outputs": [],
   "source": [
    "for i in range(6311):\n",
    "    tf_idf_docs(str(i))"
   ]
  },
  {
   "cell_type": "code",
   "execution_count": null,
   "metadata": {},
   "outputs": [],
   "source": []
  }
 ],
 "metadata": {
  "kernelspec": {
   "display_name": "Python 3",
   "language": "python",
   "name": "python3"
  },
  "language_info": {
   "codemirror_mode": {
    "name": "ipython",
    "version": 3
   },
   "file_extension": ".py",
   "mimetype": "text/x-python",
   "name": "python",
   "nbconvert_exporter": "python",
   "pygments_lexer": "ipython3",
   "version": "3.7.4"
  }
 },
 "nbformat": 4,
 "nbformat_minor": 2
}
